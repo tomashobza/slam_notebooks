{
 "cells": [
  {
   "cell_type": "markdown",
   "id": "386ef9d4",
   "metadata": {},
   "source": [
    "# Take a bunch of pictures from the drone on-board camera and assemble a map from them"
   ]
  },
  {
   "cell_type": "code",
   "execution_count": 4,
   "id": "0e5b8cff",
   "metadata": {},
   "outputs": [],
   "source": [
    "FAMES_FOLDER = 'mapping_frames'"
   ]
  },
  {
   "cell_type": "code",
   "execution_count": null,
   "id": "85fbc12c",
   "metadata": {},
   "outputs": [
    {
     "name": "stdout",
     "output_type": "stream",
     "text": [
      "Contents of the FAMES folder: ['mapping_frames/frame_20250710_203508.jpg', 'mapping_frames/frame_20250710_203509.jpg', 'mapping_frames/frame_20250710_203452.jpg', 'mapping_frames/frame_20250710_203503.jpg', 'mapping_frames/frame_20250710_203517.jpg', 'mapping_frames/frame_20250710_203515.jpg', 'mapping_frames/frame_20250710_203514.jpg', 'mapping_frames/frame_20250710_203500.jpg', 'mapping_frames/frame_20250710_203510.jpg', 'mapping_frames/frame_20250710_203511.jpg', 'mapping_frames/frame_20250710_203505.jpg', 'mapping_frames/frame_20250710_203512.jpg']\n"
     ]
    }
   ],
   "source": [
    "import os\n",
    "\n",
    "\n",
    "def list_directory_contents():\n",
    "    items = []\n",
    "    try:\n",
    "        contents = os.listdir(f\"{FAMES_FOLDER}/\")\n",
    "        for item in contents:\n",
    "            items.append(f\"{FAMES_FOLDER}/{item}\")\n",
    "        return items\n",
    "    except Exception as e:\n",
    "        print(f\"An error occurred: {e}\")\n",
    "\n",
    "\n",
    "frames = list_directory_contents()\n",
    "\n",
    "print(\"Contents of the FAMES folder:\", frames)"
   ]
  },
  {
   "cell_type": "code",
   "execution_count": 14,
   "id": "ac2e2583",
   "metadata": {},
   "outputs": [],
   "source": [
    "import cv2\n",
    "\n",
    "class FramesMapper:\n",
    "    def __init__(self, frames):\n",
    "        self.frames = []\n",
    "        self.keypoints = []\n",
    "        self.descriptors = []\n",
    "        self.images = []\n",
    "        \n",
    "        self.orb = cv2.ORB_create(nfeatures=1000)\n",
    "        self.matcher = cv2.BFMatcher(cv2.NORM_HAMMING, crossCheck=True)\n",
    "        \n",
    "    def load_frames(self, frames):\n",
    "        # Load frames from the provided list\n",
    "        for frame in frames:\n",
    "            if os.path.exists(frame):\n",
    "                img = cv2.imread(frame, cv2.IMREAD_GRAYSCALE)\n",
    "                if img is not None:\n",
    "                    self.frames.append(frame)\n",
    "                    self.images.append(img)\n",
    "                    keypoints, descriptors = self.orb.detectAndCompute(img, None)\n",
    "                    self.keypoints.append(keypoints)\n",
    "                    self.descriptors.append(descriptors)\n",
    "            else:\n",
    "                print(f\"Frame {frame} does not exist.\")\n",
    "        print(\"Loaded frames:\", len(self.frames))\n",
    "        \n",
    "        # Extract ORB keypoints and descriptors\n",
    "        for image in self.images:\n",
    "            keypoints, descriptors = self.orb.detectAndCompute(image, None)\n",
    "            self.keypoints.append(keypoints)\n",
    "            self.descriptors.append(descriptors)\n",
    "        print(f\"Extracted keypoints: {len(self.keypoints)}\")\n",
    "    \n",
    "    def match_features(self, desc1, desc2):\n",
    "        \"\"\"Match features between two frames.\"\"\"\n",
    "        if desc1 is None or desc2 is None:\n",
    "            return []\n",
    "            \n",
    "        matches = self.matcher.match(desc1, desc2)\n",
    "        matches = sorted(matches, key=lambda x: x.distance)\n",
    "        \n",
    "        good = []\n",
    "        for m,n in matches:\n",
    "            if m.distance < 0.7*n.distance:\n",
    "                good.append(m)\n",
    "        return good\n",
    "            \n",
    "\n"
   ]
  }
 ],
 "metadata": {
  "kernelspec": {
   "display_name": "venv",
   "language": "python",
   "name": "python3"
  },
  "language_info": {
   "codemirror_mode": {
    "name": "ipython",
    "version": 3
   },
   "file_extension": ".py",
   "mimetype": "text/x-python",
   "name": "python",
   "nbconvert_exporter": "python",
   "pygments_lexer": "ipython3",
   "version": "3.13.5"
  }
 },
 "nbformat": 4,
 "nbformat_minor": 5
}
