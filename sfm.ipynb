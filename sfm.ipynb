{
 "cells": [
  {
   "cell_type": "markdown",
   "id": "ca68a602",
   "metadata": {},
   "source": [
    "# Structure from Motion"
   ]
  },
  {
   "cell_type": "code",
   "execution_count": 1,
   "id": "987322a4",
   "metadata": {},
   "outputs": [
    {
     "name": "stdout",
     "output_type": "stream",
     "text": [
      "Epipolar line coefficients: [ 0.00515033 -0.02782258  1.32032848]\n"
     ]
    },
    {
     "data": {
      "text/plain": [
       "Text(0.5, 1.0, 'Epipolar Line')"
      ]
     },
     "execution_count": 1,
     "metadata": {},
     "output_type": "execute_result"
    },
    {
     "data": {
      "image/png": "[encoded data removed]",
      "text/plain": [
       "<Figure size 640x480 with 1 Axes>"
      ]
     },
     "metadata": {},
     "output_type": "display_data"
    }
   ],
   "source": [
    "import cv2\n",
    "import numpy as np\n",
    "import matplotlib.pyplot as plt\n",
    "import os\n",
    "\n",
    "# Initiate ORB detector\n",
    "orb = cv2.ORB_create()\n",
    "\n",
    "images = [os.path.join('beethoven/images/', path) for path in sorted(os.listdir('beethoven/images/'))]\n",
    "silhouettes = [os.path.join('beethoven/silhouettes/', path) for path in sorted(os.listdir('beethoven/silhouettes/'))]\n",
    "\n",
    "def get_masked_img(index):\n",
    "    img = cv2.imread(images[index])\n",
    "    silhouette = cv2.imread(silhouettes[index], cv2.IMREAD_GRAYSCALE)\n",
    "    \n",
    "    inv_silhouette = cv2.bitwise_not(silhouette)\n",
    "    \n",
    "    masked_img = cv2.bitwise_and(img, img, mask=inv_silhouette)\n",
    "    \n",
    "    return masked_img\n",
    "\n",
    "def extract_features(image, orb):\n",
    "    # find the keypoints with ORB\n",
    "    kp = orb.detect(image,None)\n",
    "    # compute the descriptors with ORB\n",
    "    kp, des = orb.compute(image, kp)\n",
    "    return kp, des\n",
    "\n",
    "def match_features(des1, des2):\n",
    "    # create BFMatcher object\n",
    "    bf = cv2.BFMatcher(cv2.NORM_HAMMING, crossCheck=True)\n",
    "    # Match descriptors.\n",
    "    matches = bf.match(des1, des2)\n",
    "    # Sort them in ascending order of distance\n",
    "    matches = sorted(matches, key=lambda x: x.distance)\n",
    "    return matches\n",
    "\n",
    "def get_matched_keypoints(kp1, kp2, matches):\n",
    "    pts1 = np.float32([kp1[m.queryIdx].pt for m in matches])\n",
    "    pts2 = np.float32([kp2[m.trainIdx].pt for m in matches])\n",
    "    return pts1, pts2\n",
    "\n",
    "def estimate_fundamental_matrix(pts1, pts2):\n",
    "    F, mask = cv2.findFundamentalMat(pts1, pts2, cv2.FM_RANSAC)\n",
    "    # We select only inlier points\n",
    "    pts1 = pts1[mask.ravel() == 1]\n",
    "    pts2 = pts2[mask.ravel() == 1]\n",
    "    return F, pts1, pts2\n",
    "\n",
    "def compute_projection_matrices(F):\n",
    "    P1 = np.hstack((np.eye(3), np.zeros((3, 1))))\n",
    "    print(P1)\n",
    "    U, S, Vt = np.linalg.svd(F.T)\n",
    "    print(Vt)\n",
    "    e = Vt[-1] / Vt[-1][2]\n",
    "\n",
    "    def skew(x):\n",
    "        return np.array([[0, -x[2], x[1]],\n",
    "                         [x[2], 0, -x[0]],\n",
    "                         [-x[1], x[0], 0]])\n",
    "\n",
    "    ex = skew(e)\n",
    "    P2 = np.hstack((ex @ F, e.reshape(3, 1)))\n",
    "    return P1, P2\n",
    "\n",
    "def triangulate_points(P1, P2, pts1, pts2):\n",
    "    pts1_h = pts1.T\n",
    "    pts2_h = pts2.T\n",
    "    pts4d = cv2.triangulatePoints(P1, P2, pts1_h, pts2_h)\n",
    "    pts3d = (pts4d[:3] / pts4d[3]).T\n",
    "    return pts3d\n",
    "\n",
    "img1 = get_masked_img(2)\n",
    "img2 = get_masked_img(3)\n",
    "kp1, des1 = extract_features(img1, orb)\n",
    "kp2, des2 = extract_features(img2, orb)\n",
    "matches = match_features(des1, des2)\n",
    "pts1, pts2 = get_matched_keypoints(kp1, kp2, matches)\n",
    "F, pts1, pts2 = estimate_fundamental_matrix(pts1, pts2)\n",
    "\n",
    "# calculate the epipolar line for one point pair using the fundamental matrix and numpy\n",
    "\n",
    "line = F @ np.array([pts1[0][0], pts1[0][1], 1])\n",
    "print(\"Epipolar line coefficients:\", line)\n",
    "# draw the line in a blank image\n",
    "h, w = img1.shape[:2]\n",
    "x0, y0 = 0, int(-line[2] / line[1])  # y-intercept\n",
    "x1, y1 = w, int(-(line[2] + line[0] * w) / line[1])  # x-intercept\n",
    "epipolar_line_img = np.zeros((h, w, 3), dtype=np.uint8)\n",
    "cv2.line(epipolar_line_img, (x0, y0), (x1, y1), (255, 0, 0), 2)\n",
    "plt.imshow(epipolar_line_img)\n",
    "plt.title('Epipolar Line')\n",
    "\n",
    "# P1, P2 = compute_projection_matrices(F)\n",
    "# pts3d = triangulate_points(P1, P2, pts1, pts2)\n",
    "\n",
    "# # Visualize triangulated points\n",
    "# fig = plt.figure()\n",
    "# ax = fig.add_subplot(111, projection='3d')\n",
    "# ax.scatter(pts3d[:, 0], pts3d[:, 1], pts3d[:, 2], c='r', marker='o')\n",
    "# ax.set_xlabel('X')\n",
    "# ax.set_ylabel('Y')\n",
    "# ax.set_zlabel('Z')\n",
    "# plt.show()\n",
    "\n",
    "# kp, des = extract_features(img, orb)\n",
    "# # draw only keypoints location,not size and orientation\n",
    "# img2 = cv2.drawKeypoints(img, kp, None, color=(0,255,0), flags=0)\n",
    "# plt.imshow(img2), plt.show()\n",
    "# # plt.imshow(cv2.cvtColor(img, cv2.COLOR_BGR2RGB))"
   ]
  },
  {
   "cell_type": "code",
   "execution_count": 39,
   "id": "526307f8",
   "metadata": {},
   "outputs": [
    {
     "name": "stdout",
     "output_type": "stream",
     "text": [
      "K: [[1.27656183e+03 7.53876948e-04 5.21116231e+02]\n",
      " [0.00000000e+00 1.27798229e+03 3.94979070e+02]\n",
      " [0.00000000e+00 0.00000000e+00 1.00000002e+00]]\n",
      "R: [[ 0.00549769  0.99998356  0.00163125]\n",
      " [ 0.71091249 -0.0027612  -0.70327505]\n",
      " [-0.70325899  0.00502606 -0.71091599]]\n",
      "t: [[43.53618834]\n",
      " [-0.25701811]\n",
      " [38.16511646]]\n"
     ]
    }
   ],
   "source": [
    "import cv2\n",
    "import numpy as np\n",
    "\n",
    "P = np.array([\n",
    "    [-359.461, 1279.16, -368.388, 30037.9],\n",
    "    [ 630.761, -1.54358, -1179.57, 17557.1],\n",
    "    [-0.703259, 0.00502606, -0.710916, 57.7507]\n",
    "])\n",
    "\n",
    "K, R, t, _, _, _, _ = cv2.decomposeProjectionMatrix(P)\n",
    "t = t[:3] / t[3]\n",
    "\n",
    "print(\"K:\", K)\n",
    "print(\"R:\", R)\n",
    "print(\"t:\", t)"
   ]
  }
 ],
 "metadata": {
  "kernelspec": {
   "display_name": "venv",
   "language": "python",
   "name": "python3"
  },
  "language_info": {
   "codemirror_mode": {
    "name": "ipython",
    "version": 3
   },
   "file_extension": ".py",
   "mimetype": "text/x-python",
   "name": "python",
   "nbconvert_exporter": "python",
   "pygments_lexer": "ipython3",
   "version": "3.13.5"
  }
 },
 "nbformat": 4,
 "nbformat_minor": 5
}
